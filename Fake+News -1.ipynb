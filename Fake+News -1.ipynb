{
 "cells": [
  {
   "cell_type": "markdown",
   "metadata": {},
   "source": [
    "# A step-by-step guide to build a Fake News Classifier"
   ]
  },
  {
   "cell_type": "markdown",
   "metadata": {},
   "source": [
    "This Notebook uses Fast.ai <b>v1</b>.Import the fast.ai libraries. Find more [here](https://github.com/fastai) The data used can be downloaded here [here](https://github.com/cabhijith/Fake-News/blob/master/fake_or_real_news.csv.zip) The data has been provided by George McIntire "
   ]
  },
  {
   "cell_type": "code",
   "execution_count": null,
   "metadata": {
    "collapsed": true
   },
   "outputs": [],
   "source": [
    "from fastai.text import *\n",
    "from fastai import *"
   ]
  },
  {
   "cell_type": "markdown",
   "metadata": {},
   "source": [
    "\n",
    "## Preparing the Data"
   ]
  },
  {
   "cell_type": "code",
   "execution_count": 10,
   "metadata": {
    "collapsed": true
   },
   "outputs": [],
   "source": [
    "path = Path(\"Data\")"
   ]
  },
  {
   "cell_type": "code",
   "execution_count": 11,
   "metadata": {},
   "outputs": [
    {
     "data": {
      "text/plain": [
       "[PosixPath('Data/models'),\n",
       " PosixPath('Data/fake_or_real_news.csv'),\n",
       " PosixPath('Data/tmp')]"
      ]
     },
     "execution_count": 11,
     "metadata": {},
     "output_type": "execute_result"
    }
   ],
   "source": [
    "path.ls()"
   ]
  },
  {
   "cell_type": "markdown",
   "metadata": {},
   "source": [
    "Reading the data with the pandas library, we can see the format of the data. It's a .csv file with a Title, text and a label:- <b>Real</b> or <b>Fake</b>"
   ]
  },
  {
   "cell_type": "code",
   "execution_count": 12,
   "metadata": {},
   "outputs": [
    {
     "data": {
      "text/html": [
       "<div>\n",
       "<style scoped>\n",
       "    .dataframe tbody tr th:only-of-type {\n",
       "        vertical-align: middle;\n",
       "    }\n",
       "\n",
       "    .dataframe tbody tr th {\n",
       "        vertical-align: top;\n",
       "    }\n",
       "\n",
       "    .dataframe thead th {\n",
       "        text-align: right;\n",
       "    }\n",
       "</style>\n",
       "<table border=\"1\" class=\"dataframe\">\n",
       "  <thead>\n",
       "    <tr style=\"text-align: right;\">\n",
       "      <th></th>\n",
       "      <th>Unnamed: 0</th>\n",
       "      <th>title</th>\n",
       "      <th>text</th>\n",
       "      <th>label</th>\n",
       "    </tr>\n",
       "  </thead>\n",
       "  <tbody>\n",
       "    <tr>\n",
       "      <th>0</th>\n",
       "      <td>8476</td>\n",
       "      <td>You Can Smell Hillary’s Fear</td>\n",
       "      <td>Daniel Greenfield, a Shillman Journalism Fello...</td>\n",
       "      <td>FAKE</td>\n",
       "    </tr>\n",
       "    <tr>\n",
       "      <th>1</th>\n",
       "      <td>10294</td>\n",
       "      <td>Watch The Exact Moment Paul Ryan Committed Pol...</td>\n",
       "      <td>Google Pinterest Digg Linkedin Reddit Stumbleu...</td>\n",
       "      <td>FAKE</td>\n",
       "    </tr>\n",
       "    <tr>\n",
       "      <th>2</th>\n",
       "      <td>3608</td>\n",
       "      <td>Kerry to go to Paris in gesture of sympathy</td>\n",
       "      <td>U.S. Secretary of State John F. Kerry said Mon...</td>\n",
       "      <td>REAL</td>\n",
       "    </tr>\n",
       "    <tr>\n",
       "      <th>3</th>\n",
       "      <td>10142</td>\n",
       "      <td>Bernie supporters on Twitter erupt in anger ag...</td>\n",
       "      <td>— Kaydee King (@KaydeeKing) November 9, 2016 T...</td>\n",
       "      <td>FAKE</td>\n",
       "    </tr>\n",
       "    <tr>\n",
       "      <th>4</th>\n",
       "      <td>875</td>\n",
       "      <td>The Battle of New York: Why This Primary Matters</td>\n",
       "      <td>It's primary day in New York and front-runners...</td>\n",
       "      <td>REAL</td>\n",
       "    </tr>\n",
       "  </tbody>\n",
       "</table>\n",
       "</div>"
      ],
      "text/plain": [
       "   Unnamed: 0                                              title  \\\n",
       "0        8476                       You Can Smell Hillary’s Fear   \n",
       "1       10294  Watch The Exact Moment Paul Ryan Committed Pol...   \n",
       "2        3608        Kerry to go to Paris in gesture of sympathy   \n",
       "3       10142  Bernie supporters on Twitter erupt in anger ag...   \n",
       "4         875   The Battle of New York: Why This Primary Matters   \n",
       "\n",
       "                                                text label  \n",
       "0  Daniel Greenfield, a Shillman Journalism Fello...  FAKE  \n",
       "1  Google Pinterest Digg Linkedin Reddit Stumbleu...  FAKE  \n",
       "2  U.S. Secretary of State John F. Kerry said Mon...  REAL  \n",
       "3  — Kaydee King (@KaydeeKing) November 9, 2016 T...  FAKE  \n",
       "4  It's primary day in New York and front-runners...  REAL  "
      ]
     },
     "execution_count": 12,
     "metadata": {},
     "output_type": "execute_result"
    }
   ],
   "source": [
    "df = pd.read_csv(path/'fake_or_real_news.csv')\n",
    "df.head()"
   ]
  },
  {
   "cell_type": "markdown",
   "metadata": {},
   "source": [
    "\n",
    "\n"
   ]
  },
  {
   "cell_type": "markdown",
   "metadata": {},
   "source": [
    "\n",
    "\n",
    "\n",
    "\n",
    "\n",
    "\n",
    "\n",
    "\n",
    "\n",
    "\n",
    "\n",
    "\n",
    "\n",
    "\n",
    "\n",
    "Using a pandas dataframe, we can index into any particluar text (in this case 100). We can index into different text pieces to \n",
    "get a sense of the data. Using the title 'text' we can read the contents of the article. To get the title ot label  of it, replace text with name of the column you would like to see\n",
    "\n",
    "\n"
   ]
  },
  {
   "cell_type": "code",
   "execution_count": 13,
   "metadata": {},
   "outputs": [
    {
     "data": {
      "text/plain": [
       "\"In 2008, in the high-profile Supreme Court gun-rights case called District of Columbia v. Heller, a brief was filed from the eighth floor of the Price Daniel Sr. State Office Building in Austin, Texas, specifically from the corner office of the man who was then the state’s solicitor general, Ted Cruz.\\n\\nThe brief took a strong stance on the divisive question of whether the Second Amendment establishes an individual right to own guns, or just protects state and local militias. The brief argued forcefully for the first view, writing that “the individual right to keep and bear arms” is a “fundamental right” and that “an individual right that can be altogether abrogated is no right at all.” Thirty attorneys general from other states signed on.\\n\\nToday, with the White House pushing new gun restrictions and Cruz's candidacy riding on next month's Iowa caucuses, it's no surprise that the Texas Republican would embrace gun rights as a defining issue, holding an event at a firing range and even raffling off an engraved 12-gauge shotgun as a campaign promotion.\\n\\nIn 2008, the situation was very different: he was wading into a case that had no immediate connection to Texas at all. But to see the signature of R. Ted Cruz on the brief would not have surprised the nine Supreme Court justices in the least. By that time, Cruz had been solicitor general for five years, and inserting himself into a case of wide prominence and importance regardless of any direct tie to Texas had become part of his playbook. He clearly saw the Heller case as a watershed in gun rights, writing that it would “determine whether the Second Amendment has any modern relevance.” And he was right. The Supreme Court in a 5-4 decision shot down the Washington, D.C., handgun ban and ruled for the first time in the history of this country that the amendment ensures an individual person’s right to have a gun for self-defense. The National Rifle Association recognized Cruz’s role with a resolution.\\n\\nAs Cruz climbs to the top of the Republican presidential field, the five-plus years he served as the solicitor general of Texas remain the most important period in his public résumé. They’re the record he ran on when he was elected to the U.S. Senate in 2012—and they represent significantly more of his working life than the three years he has served so far in the Senate. They're also a prime source of fodder for liberal and moderate critics, should be become the Republican presidential nominee.\\n\\nA Politico review of Cruz’s record as solicitor general shows he used the role in a new and far more ideological way than his predecessors, taking a relatively low-profile job that had traditionally been used mostly to defend the state government and turning it into a stage for pushing national conservative causes. Cruz argued eight cases in front of the U.S. Supreme Court—far more than his predecessors and successors—using each of them to advance a position endorsed by conservative thinkers. He also was the counsel of record on some 70 friend-of-the-court briefs, or amicus briefs, weighing in on cases across the country, like Heller, in which Texas had no direct stake, but which similarly offered a chance to argue ideological points.\\n\\n“He really turned the office into a platform,” David Bernstein, a George Mason law professor who recently wrote a book about the Obama administration for which Cruz wrote the foreword, said in an interview.\\n\\n“He built up the national aura of the office,” said Tom Phillips, who was the chief justice of the Supreme Court of Texas at the start of Cruz’s run as solicitor general.\\n\\nCruz’s zealous work served the ambitions of the conservative movement, but he also personally used it to build a bridge between what he was (an elite constitutional law nerd) to what he is today (an ascendant right-wing politician). Yet while pleasing to conservatives, other aspects of his record are sure to attract critics. He argued against leniency for an unjustly sentenced man whose lawyer had made a technical mistake; he invoked 13th-century “Saxon law” and the practice of cutting off testicles to justify harsher punishments in a rape case; and he referred to a late-term abortion technique as “infanticide.”\\n\\nAlthough little examined in the race so far, Cruz’s time as solicitor general built him a powerful allegiance among the conservative donors necessary to launch a national campaign. Heading into Iowa, New Hampshire, South Carolina and beyond, he has more money at his disposal than any candidate besides Jeb Bush. And the way he used that Texas office is part of the reason. Toby Neugebauer, who wrote a $10 million check to the Cruz super PAC called Keep the Promise II, told me the reason he did that—the single reason—is what Cruz did as solicitor general. He said other major donors feel the same way.\\n\\n“We’re backing someone,” Neugebauer told me, “that had a worldview and went out and executed on it.”\\n\\nCruz took the solicitor job as a reboot of sorts after his initial foray into politics had fizzled.\\n\\nAs a debater at Princeton, as a law school student at Harvard, and as a clerk to then-Supreme Court Chief Justice William Rehnquist, Cruz was widely considered brilliant—but he left his first real job as a promising appellate attorney in private practice in Washington to instead toil in 2000 as a domestic policy analyst in George W. Bush’s presidential campaign, then as a legal hand for Bush’s team in the frantic recount in Florida that ultimately won Bush the election.\\n\\nIn return, Cruz “desperately” wanted “a senior post” in the White House, he wrote in his autobiography. On the campaign, though, he had earned a reputation for his outsized ego as much as for his obvious intelligence, and the post-election jobs he got were out-of-the-way roles at the Department of Justice and the Federal Trade Commission. “I just don’t like the guy,” Bush has said since. The solicitor general role in his home state of Texas, offered to him by Greg Abbott—then the attorney general of Texas, now the governor—was a political lifeline.\\n\\nFrom the start, it offered a chance to turn his legal acumen into political potential, because it came with a green light to advance conservative aims in the courts. Abbott’s directive for the solicitor general of Texas, Cruz said in his book, was to “look across the country” and “identify chances to defend conservative principles.”\\n\\nThis is not the traditional definition of a solicitor general’s job, which comes with two main duties. The first: States get sued, attorneys general and their staffs respond, and some of the cases get appealed—and that’s where the solicitor general comes in, representing the state in higher courts, where the cases are the most legalistic and complex. The second: the writing of amicus briefs in cases elsewhere in which a state believes it has an interest even though it’s not a party.\\n\\nThe first part can be seen as defense. The second part is more like offense, selectively advancing the interests of the state. The way Cruz did the job? Even the defense was offense, and the interests being asserted were less those of the state than its conservative leaders.\\n\\n“Texas is a huge state, and there’s plenty of work for the attorney general’s office to do,” said Jim Ho, an attorney in Dallas who succeeded Cruz as solicitor general and is a friend and supporter. Cruz, though, “was not content to simply do what was asked and go home.”\\n\\nWhen it came to cases that allowed him to argue for things like the forceful application of the death penalty and expressions of religion in the public arena and against things like abortion and gun control, Ho told me, Cruz “was on constant watch for opportunities to press a conservative vision of the Constitution.”\""
      ]
     },
     "execution_count": 13,
     "metadata": {},
     "output_type": "execute_result"
    }
   ],
   "source": [
    "df['text'][100]"
   ]
  },
  {
   "cell_type": "code",
   "execution_count": 14,
   "metadata": {},
   "outputs": [
    {
     "data": {
      "text/plain": [
       "'How Ted Cruz Became Ted Cruz'"
      ]
     },
     "execution_count": 14,
     "metadata": {},
     "output_type": "execute_result"
    }
   ],
   "source": [
    "df['title'][100]\n"
   ]
  },
  {
   "cell_type": "code",
   "execution_count": 4,
   "metadata": {
    "collapsed": true
   },
   "outputs": [],
   "source": [
    "bs = 32"
   ]
  },
  {
   "cell_type": "markdown",
   "metadata": {},
   "source": [
    "\n",
    "## Tokenization\n",
    "The first step of processing we make the texts go through is to split the raw sentences into words, or more exactly tokens. The easiest way to do this would be to split the string on spaces, but we can be smarter:\n",
    "\n",
    "We need to take care of punctuation\n",
    "  - some words are contractions of two different words, like isn't or don't\n",
    "  - we may need to clean some parts of our texts, if there's HTML code for instance\n",
    "  - To see what the tokenizer had done behind the scenes, let's have a look at a few texts in a batch.\n",
    "\n",
    "As we can see below, all the words have been tokenized. For example, in <b>idx</b> 1, hillary's has been separated into two\n",
    "separate tokens - hilary + 's \n",
    "Some words have an 'xx' attached to this. These denoteseparate parts of a document. For example\n",
    "\n",
    "   - xxcap : All Capital Letters\n",
    "   - xxunk : Rarely occuring words\n",
    "   - xxfld :  Beginning of a new field\n"
   ]
  },
  {
   "cell_type": "code",
   "execution_count": 17,
   "metadata": {
    "collapsed": true
   },
   "outputs": [],
   "source": [
    "data_language  = (TextList.from_df(df, cols = ['text', 'label']) \n",
    "                  .random_split_by_pct(0.2)\n",
    "                  .label_for_lm()\n",
    "                  .databunch(bs = bs))"
   ]
  },
  {
   "cell_type": "code",
   "execution_count": 20,
   "metadata": {},
   "outputs": [
    {
     "data": {
      "text/html": [
       "<table>  <col width='5%'>  <col width='95%'>  <tr>\n",
       "    <th>idx</th>\n",
       "    <th>text</th>\n",
       "  </tr>\n",
       "  <tr>\n",
       "    <th>0</th>\n",
       "    <th>he said he will fly to xxmaj france at the conclusion of a series of meetings scheduled for xxmaj thursday in xxmaj sofia , xxmaj bulgaria . xxmaj he plans to meet the next day with xxmaj foreign xxmaj minister xxmaj laurent xxmaj fabius and xxmaj president xxmaj francois xxmaj hollande , then return to xxmaj washington . \\n\\n xxmaj the visit by xxmaj kerry , who has family and</th>\n",
       "  </tr>\n",
       "  <tr>\n",
       "    <th>1</th>\n",
       "    <th>lewd talk about women . \\n xxmaj hillary ’s lewd talk about xxmaj putin xxunk new xxmaj xxunk get us all killed . \\n http : / / xxunk / xxunk - xxunk - icbm / xxunk / ? xxunk = xxunk - xxunk = xxunk - xxunk xxmaj dr. xxmaj paul xxmaj craig xxmaj roberts was xxmaj assistant xxmaj secretary of the xxmaj treasury for xxmaj economic xxmaj policy</th>\n",
       "  </tr>\n",
       "  <tr>\n",
       "    <th>2</th>\n",
       "    <th>2008 stayed home this year , while a lot of those somewhat and very liberal xxmaj democrats from 2008 came out again . xxmaj likewise , it could mean that the xxmaj republican wave of turnout is driven largely by a bunch of \" somewhat conservative \" voters who were n't there in 2012 . \\n\\n xxmaj and looking at the results so far , there are simple explanations to</th>\n",
       "  </tr>\n",
       "  <tr>\n",
       "    <th>3</th>\n",
       "    <th>. \\n\\n xxmaj that does n't mean he takes issue with states doing what xxmaj tennessee and xxmaj new xxmaj jersey are attempting . xxmaj he 's made it clear that he 's fine with states choosing an alternative path , as long as those states maintain high benchmarks for students . \\n\\n \" i think the governor [ xxmaj haslam ] has every right to do anything as it</th>\n",
       "  </tr>\n",
       "  <tr>\n",
       "    <th>4</th>\n",
       "    <th>investigation into xxmaj hillary xxmaj clinton ’s emails all showed a tie , but now the very first survey conducted afterwards shows xxmaj trump up by five points . \\n xxmaj colorado \\n xxmaj hillary xxmaj clinton has consistently been in the lead in xxmaj colorado throughout this campaign , and most experts did n’t give xxmaj trump much of a chance in the state , but the latest survey</th>\n",
       "  </tr>\n",
       "  <tr>\n",
       "    <th>5</th>\n",
       "    <th>aware of the transregional “ infection ” potential that the xxup car has in affecting the xxmaj lake xxmaj chad region . xxmaj additionally , the country ’s domestic difficulties could also spread xxunk into the northern reaches of the xxmaj central - xxmaj southern state of the xxmaj democratic xxmaj republic of the xxmaj congo ( xxup drc ) , representing a dual destabilization threat emanating from the xxup</th>\n",
       "  </tr>\n",
       "  <tr>\n",
       "    <th>6</th>\n",
       "    <th>of course no xxup nato grand standing would be complete without the exhausted and fictional argument that xxup nato is actually useful in countering xxmaj moscow on xxmaj syria and xxmaj ukraine . \\n xxup rt reports … \\n xxmaj appearing on the xxup xxunk xxmaj thursday show ‘ xxmaj xxunk xxmaj xxunk , xxmaj german xxmaj defense xxmaj minister xxmaj ursula von der xxmaj leyen emotionally argued that the</th>\n",
       "  </tr>\n",
       "  <tr>\n",
       "    <th>7</th>\n",
       "    <th>legislation that impacts the entire country and beyond . xxmaj think about that . xxmaj louie xxmaj gohmert , who once said the “ wall of separation ” between church and state is “ a one way wall , ” whatever the hell that means , gets to vote on laws that could potentially and xxunk alter the course of your life . \\n\\n xxmaj our only possible defense against</th>\n",
       "  </tr>\n",
       "  <tr>\n",
       "    <th>8</th>\n",
       "    <th>day during his lifetime . xxmaj nation xxmaj throws xxmaj off xxmaj tyrannical xxmaj yoke xxmaj of xxmaj moderate xxmaj respect xxmaj for xxmaj women xxup washington — xxmaj political experts are hailing xxmaj donald xxmaj trump ’s historic presidential victory early xxmaj wednesday as a resounding declaration that the nation is finally ready to cast off the tyrannical yoke of moderate respect for women that has suffocated the citizens</th>\n",
       "  </tr>\n",
       "  <tr>\n",
       "    <th>9</th>\n",
       "    <th>what is it we need to do to unify the xxmaj republican party and all strains of conservative wings in the party ? xxmaj we had a very good and encouraging conversation on just how to do that . ” \\n\\n xxmaj it was important to discuss “ core principles ” that tie xxmaj republicans together , added xxmaj ryan , who was running mate to xxmaj mitt xxmaj romney</th>\n",
       "  </tr>\n",
       "  <tr>\n",
       "    <th>10</th>\n",
       "    <th>xxmaj states see fewer school - age people in the labor force . \\n\\n xxmaj by the same token , xxmaj sanders 's \" xxmaj medicare for all \" and expanded xxmaj social xxmaj security plans would almost certainly increase the number of people who retire early . xxmaj free health care would make it easier to be retired for a year or five before xxmaj social xxmaj security benefits</th>\n",
       "  </tr>\n",
       "  <tr>\n",
       "    <th>11</th>\n",
       "    <th>, expressed in part by a relative disinterest among her supporters . \\n\\n xxmaj and when placed beside the more outspoken advocates for xxmaj vermont xxmaj sen. xxmaj bernie xxmaj sanders – some of whom came to the xxmaj tuesday rally to protest xxmaj clinton ’s candidacy – or the outrage that marks followers of presumptive xxmaj republican nominee xxmaj donald xxmaj trump , xxmaj clinton voters do appear almost</th>\n",
       "  </tr>\n",
       "  <tr>\n",
       "    <th>12</th>\n",
       "    <th>xxmaj contenders xxmaj stay xxmaj classy xxmaj with xxmaj major xxmaj shift xxmaj in xxmaj debate xxmaj tone xxmaj and xxmaj pitch \\n\\n xxmaj after one more debate among the xxmaj republican contenders for president , the xxunk conversation was once again dominated by xxmaj donald xxmaj trump 's behavior . \\n\\n xxmaj but for once , it was about his good behavior . xxmaj he did not shout or</th>\n",
       "  </tr>\n",
       "  <tr>\n",
       "    <th>13</th>\n",
       "    <th>deal with the potentially catastrophic fallout from the xxmaj king v. xxmaj burwell decision . xxmaj if the xxmaj supreme xxmaj court strikes down the xxmaj affordable xxmaj care xxmaj act ’s subsidies in 37 states , xxmaj republicans will be under intense pressure to do something to mitigate the damage . xxmaj can anyone credibly argue that xxmaj congress is up to the task when the xxmaj speaker of</th>\n",
       "  </tr>\n",
       "  <tr>\n",
       "    <th>14</th>\n",
       "    <th>, where protesters attempt to peacefully face off against riot police and the xxmaj national xxmaj guard . xxmaj in addition to being maced and beaten with batons , activists opposing the four - state xxmaj dakota xxmaj access xxmaj pipeline ( xxup dapl ) have been xxunk and even shot with rubber bullets . \\n xxmaj as the recent incident ( below ) reveals , violence seems to only</th>\n",
       "  </tr>\n",
       "  <tr>\n",
       "    <th>15</th>\n",
       "    <th>xxmaj syria to thwart real radicals , but he could be getting played . \\n\\n xxmaj and then there 's taking on xxmaj russia , which is also nominally targeting the common enemy of xxup isis . \\n\\n xxmaj putin may have dirty hands -- but so does xxmaj erdogan . xxup real xxbos xxmaj assange claims ‘ xxunk xxmaj clinton campaign tried to hack wikileaks xxmaj the whistleblowing website</th>\n",
       "  </tr>\n",
       "  <tr>\n",
       "    <th>16</th>\n",
       "    <th>this is 55,000 more than the xxmaj obama administration ’s plan to accept 10,000 xxmaj syrian refugees this fiscal year . \\n\\n xxmaj the 620,000 figure that xxmaj trump often uses is based in the xxunk assumption that xxmaj clinton would continue at that pace for every year of her first term , on top of the xxmaj obama administration ’s proposal for 100,000 total refugees for fiscal year 2017</th>\n",
       "  </tr>\n",
       "  <tr>\n",
       "    <th>17</th>\n",
       "    <th>. xxmaj it ’s been this way for years and continues to increase as we go . xxmaj every moment dictates , getting used to the flow , learning to navigate with it and then master it … . it ’s a process for us all ! \\n xxmaj right now the crown of my head could just shoot off . xxmaj we have lift - off loves ! xxmaj</th>\n",
       "  </tr>\n",
       "  <tr>\n",
       "    <th>18</th>\n",
       "    <th>to non - xxmaj islamic xxmaj state extremists — appeared to be turning the tide against the xxmaj syrian military , taking territory in xxmaj idlib and xxmaj aleppo provinces in the northwest and on the southern front near the xxmaj jordanian border . \\n\\n “ xxmaj the only viable future for a unified xxmaj syria is one that unites the moderate elements and what remains of the regime after</th>\n",
       "  </tr>\n",
       "  <tr>\n",
       "    <th>19</th>\n",
       "    <th>escape with a tie , ” tweeted xxmaj david xxmaj axelrod , former political adviser to xxmaj president xxmaj obama . \\n\\n xxmaj the way xxmaj democratic caucuses are run here , raw vote totals are n’t reported , just the number of county convention delegates won . xxmaj the state xxmaj democratic xxmaj party declared xxmaj clinton the winner early xxmaj tuesday morning by 4 / xxunk of a</th>\n",
       "  </tr>\n",
       "  <tr>\n",
       "    <th>20</th>\n",
       "    <th>it , powering growth and opportunity for every person in the hemisphere . ” \\n xxmaj email # 3 “ xxmaj hillary xxmaj clinton took money from and supported nations that she xxup knew funded xxup isis and terrorists . ” \\n xxmaj according to the email , logistical as well as financial support was involved . \\n xxmaj clinton knew that xxmaj saudi xxmaj arabia and xxmaj qatar were</th>\n",
       "  </tr>\n",
       "  <tr>\n",
       "    <th>21</th>\n",
       "    <th>the legislature 's hands . xxmaj that 's one of the ways we 've gone awry . \\n\\n xxmaj the last thing that 's really important is that in fiscal year 2014 , the xxup us xxmaj department of xxmaj justice only prosecuted 12 [ heroin cases involving fentanyl ] nationwide . xxmaj so this means 12 cases the judge would have the ability to add more on but would</th>\n",
       "  </tr>\n",
       "  <tr>\n",
       "    <th>22</th>\n",
       "    <th>” \\n\\n xxmaj justice xxmaj department officials said they had no choice but to cut the number of observers . xxmaj the xxmaj supreme xxmaj court ’s 2013 xxmaj shelby xxmaj county v. xxmaj holder ruling on the xxmaj voting xxmaj rights xxmaj act “ curtailed our ability to deploy observers ” to states that used to need federal approval before making changes to election or voting laws , said</th>\n",
       "  </tr>\n",
       "  <tr>\n",
       "    <th>23</th>\n",
       "    <th>to deny him the gavel . ( xxmaj the xxunk xxmaj house seat is held by xxmaj rep. xxmaj michael xxup g. xxmaj grimm ( r - xxup n.y. ) , who plans to resign xxmaj monday after recently pleading guilty to tax evasion charges . ) \\n\\n xxmaj rep. xxmaj walter xxup b. xxmaj jones ( r - xxup n.c. ) , who opposed xxmaj boehner two years ago</th>\n",
       "  </tr>\n",
       "  <tr>\n",
       "    <th>24</th>\n",
       "    <th>xxmaj diana . \\n xxmaj her parents had been out with friends at the hotel restaurant approximately 200 feet from where the child had been sleeping . xxmaj when her mother xxmaj kate mccann went to check on her around 11 pm , but she was gone . \\n xxunk go to bed every night with the xxunk feeling that just maybe tomorrow we will find something to lead us</th>\n",
       "  </tr>\n",
       "  <tr>\n",
       "    <th>25</th>\n",
       "    <th>- level status in the presidential pantheon . \\n\\n “ xxmaj my sense , though is this : that he could completely implode , ” xxmaj plouffe said of his favorite topic — xxmaj trump — tacking on a massive caveat : “ xxmaj so you say , well , how could someone , you know , really ferociously and viciously attack the last former xxmaj republican president and get</th>\n",
       "  </tr>\n",
       "  <tr>\n",
       "    <th>26</th>\n",
       "    <th>“ xxmaj we ’re a private company , ” xxmaj xxunk said . “ i ca n’t do that ” \\n “ xxmaj yes , you can , ” said the xxmaj xxunk . “ xxmaj matter of national security . ” \\n “ xxmaj it ’s unconstitutional , ” xxmaj joe protested . “ xxmaj without warrants from a judge , on a case - by - case basis</th>\n",
       "  </tr>\n",
       "  <tr>\n",
       "    <th>27</th>\n",
       "    <th>'s positions on key issues like voting rights , economic inequality and police violence . xxmaj the fact that xxmaj trump hired an executive from the polemical xxmaj breitbart xxmaj news is not evidence he moving toward a different mentality . \\n\\n xxmaj as the summer comes to a close , we are pretty late into the election game . xxmaj there are some moments in xxup us history ,</th>\n",
       "  </tr>\n",
       "  <tr>\n",
       "    <th>28</th>\n",
       "    <th>2016 # www.youtube.com 0 \\n xxmaj list xxmaj top 10 xxmaj xxunk brings top 5 magic tricks & how magician do or you can say xxmaj xxunk behind magic . \\n xxmaj do n't miss to watch & also try to do at your home , school or party . xxmaj let people be shock to find a new magician & you can let them know how these tricks are</th>\n",
       "  </tr>\n",
       "  <tr>\n",
       "    <th>29</th>\n",
       "    <th>\" and \" xxmaj lyin ' xxmaj ted \" and claiming victory -- no matter what happened . xxup real xxbos ( xxup cnn ) xxmaj hillary xxmaj clinton 's decision to personally raise money for a super xxup pac supporting her campaign is agitating her progressive critics , who see the move as further proof that the xxmaj democratic presidential frontrunner does n't share some of their values .</th>\n",
       "  </tr>\n",
       "  <tr>\n",
       "    <th>30</th>\n",
       "    <th>dismantling xxmaj obamacare and pushing through tax reform are on the early to - do list . xxup real xxbos 15 xxmaj shares \\n 5 8 0 2 \\n xxmaj while thousands of humanitarian organisations around the world are struggling fiercely with diminishing support from governments and the public , one has achieved a surprising amount of support from xxmaj western governments in a surprisingly short period of time and</th>\n",
       "  </tr>\n",
       "  <tr>\n",
       "    <th>31</th>\n",
       "    <th>u.s. ambassador to xxmaj mali called the family late xxmaj friday afternoon to inform them , xxmaj datar ’s mother said . xxmaj datar , the mother of a young son , worked for xxmaj xxunk , an international development firm with offices in xxmaj washington . \\n\\n [ xxmaj anita xxmaj datar , the only known xxmaj american killed in xxmaj mali , was there to help ] \\n\\n</th>\n",
       "  </tr>\n",
       "</table>\n"
      ],
      "text/plain": [
       "<IPython.core.display.HTML object>"
      ]
     },
     "metadata": {},
     "output_type": "display_data"
    }
   ],
   "source": [
    "data_language.show_batch(df.count()[1])\n"
   ]
  },
  {
   "cell_type": "code",
   "execution_count": 21,
   "metadata": {},
   "outputs": [
    {
     "data": {
      "text/plain": [
       "Unnamed: 0    6335\n",
       "title         6335\n",
       "text          6335\n",
       "label         6335\n",
       "dtype: int64"
      ]
     },
     "execution_count": 21,
     "metadata": {},
     "output_type": "execute_result"
    }
   ],
   "source": [
    "df.count()\n"
   ]
  },
  {
   "cell_type": "markdown",
   "metadata": {},
   "source": [
    "As we can see the data has <b>6335</b> items i.e. unique articles/excrepts"
   ]
  },
  {
   "cell_type": "markdown",
   "metadata": {},
   "source": [
    "# Modelling\n",
    "\n",
    "\n",
    "### Language Model\n",
    "We have now prepared our data and have created a DataBunch out of it. Now, we can start building models for actual predictions!\n",
    "\n",
    "Before building the actual classifier, we have to build a model that understand English. For that we will be using the WikiText dataset. The reason is that a model finds it very difficult to learn both English and recognising Fake News in one go!\n",
    "\n",
    "We have set the batch size to 32. If your GPU cannot handle it, just decrease it to 16 or 8. A language_model_learner will be creating a Recurrent Neural Network. \n"
   ]
  },
  {
   "cell_type": "code",
   "execution_count": null,
   "metadata": {
    "collapsed": true
   },
   "outputs": [],
   "source": [
    "bs = 32"
   ]
  },
  {
   "cell_type": "code",
   "execution_count": 24,
   "metadata": {
    "collapsed": true
   },
   "outputs": [],
   "source": [
    "learn = language_model_learner(data_language, pretrained_model=URLs.WT103_1, drop_mult=0.3)"
   ]
  },
  {
   "cell_type": "markdown",
   "metadata": {},
   "source": [
    "In fast.ai ``` learn.lr_find()```, helps us find to the optimal learning rate. Once it is complete, run ```learn.recorder.plot()``` to plot the <b>loss</b> v/s <b>different learning rates.</b> Looking at the plot, we have to pick a learning rate just before the plot rises, here it is 1e-02."
   ]
  },
  {
   "cell_type": "code",
   "execution_count": 26,
   "metadata": {},
   "outputs": [
    {
     "name": "stdout",
     "output_type": "stream",
     "text": [
      "LR Finder is complete, type {learner_name}.recorder.plot() to see the graph.\n"
     ]
    }
   ],
   "source": [
    "learn.lr_find()"
   ]
  },
  {
   "cell_type": "code",
   "execution_count": 27,
   "metadata": {},
   "outputs": [
    {
     "data": {
      "image/png": "[encoded data removed]",
      "text/plain": [
       "<Figure size 432x288 with 1 Axes>"
      ]
     },
     "metadata": {
      "needs_background": "light"
     },
     "output_type": "display_data"
    }
   ],
   "source": [
    "learn.recorder.plot()"
   ]
  },
  {
   "cell_type": "code",
   "execution_count": 28,
   "metadata": {},
   "outputs": [
    {
     "data": {
      "text/html": [
       "Total time: 06:30 <p><table style='width:300px; margin-bottom:10px'>\n",
       "  <tr>\n",
       "    <th>epoch</th>\n",
       "    <th>train_loss</th>\n",
       "    <th>valid_loss</th>\n",
       "    <th>accuracy</th>\n",
       "  </tr>\n",
       "  <tr>\n",
       "    <th>1</th>\n",
       "    <th>4.199922</th>\n",
       "    <th>3.996303</th>\n",
       "    <th>0.311143</th>\n",
       "  </tr>\n",
       "</table>\n"
      ],
      "text/plain": [
       "<IPython.core.display.HTML object>"
      ]
     },
     "metadata": {},
     "output_type": "display_data"
    }
   ],
   "source": [
    "learn.fit_one_cycle(1, 1e-02moms=(0.8,0.7))"
   ]
  },
  {
   "cell_type": "markdown",
   "metadata": {},
   "source": [
    "Use ```learn.save()```, to save the weights of the model we trained just now. Load it back up by using ```learn.load()```."
   ]
  },
  {
   "cell_type": "code",
   "execution_count": 29,
   "metadata": {
    "collapsed": true
   },
   "outputs": [],
   "source": [
    "learn.save('model-1')"
   ]
  },
  {
   "cell_type": "code",
   "execution_count": null,
   "metadata": {},
   "outputs": [],
   "source": [
    "learn.model('model-1')"
   ]
  },
  {
   "cell_type": "markdown",
   "metadata": {},
   "source": [
    "Use ```learn.unfreeze()```to unfeeze earlier layers. Read more about this [here](https://forums.fast.ai/t/can-someone-explain-precompute-true-and-freeze-or-unfreeze/18169/2)"
   ]
  },
  {
   "cell_type": "code",
   "execution_count": 31,
   "metadata": {
    "collapsed": true
   },
   "outputs": [],
   "source": [
    "learn.unfreeze()"
   ]
  },
  {
   "cell_type": "code",
   "execution_count": 32,
   "metadata": {},
   "outputs": [
    {
     "name": "stdout",
     "output_type": "stream",
     "text": [
      "LR Finder is complete, type {learner_name}.recorder.plot() to see the graph.\n"
     ]
    }
   ],
   "source": [
    "learn.lr_find()"
   ]
  },
  {
   "cell_type": "code",
   "execution_count": 33,
   "metadata": {},
   "outputs": [
    {
     "data": {
      "image/png": "[encoded data removed]",
      "text/plain": [
       "<Figure size 432x288 with 1 Axes>"
      ]
     },
     "metadata": {
      "needs_background": "light"
     },
     "output_type": "display_data"
    }
   ],
   "source": [
    "learn.recorder.plot()"
   ]
  },
  {
   "cell_type": "code",
   "execution_count": 34,
   "metadata": {},
   "outputs": [
    {
     "data": {
      "text/html": [
       "Total time: 39:04 <p><table style='width:300px; margin-bottom:10px'>\n",
       "  <tr>\n",
       "    <th>epoch</th>\n",
       "    <th>train_loss</th>\n",
       "    <th>valid_loss</th>\n",
       "    <th>accuracy</th>\n",
       "  </tr>\n",
       "  <tr>\n",
       "    <th>1</th>\n",
       "    <th>4.058166</th>\n",
       "    <th>4.028416</th>\n",
       "    <th>0.305479</th>\n",
       "  </tr>\n",
       "  <tr>\n",
       "    <th>2</th>\n",
       "    <th>4.076521</th>\n",
       "    <th>4.050379</th>\n",
       "    <th>0.305864</th>\n",
       "  </tr>\n",
       "  <tr>\n",
       "    <th>3</th>\n",
       "    <th>3.826935</th>\n",
       "    <th>3.879514</th>\n",
       "    <th>0.324971</th>\n",
       "  </tr>\n",
       "  <tr>\n",
       "    <th>4</th>\n",
       "    <th>3.619037</th>\n",
       "    <th>3.717261</th>\n",
       "    <th>0.342926</th>\n",
       "  </tr>\n",
       "  <tr>\n",
       "    <th>5</th>\n",
       "    <th>3.312912</th>\n",
       "    <th>3.684012</th>\n",
       "    <th>0.348210</th>\n",
       "  </tr>\n",
       "</table>\n"
      ],
      "text/plain": [
       "<IPython.core.display.HTML object>"
      ]
     },
     "metadata": {},
     "output_type": "display_data"
    }
   ],
   "source": [
    "learn.fit_one_cycle(5, 1e-2, moms = (0.8,0.7))"
   ]
  },
  {
   "cell_type": "code",
   "execution_count": 35,
   "metadata": {
    "collapsed": true
   },
   "outputs": [],
   "source": [
    "learn.save('enc')"
   ]
  },
  {
   "cell_type": "code",
   "execution_count": null,
   "metadata": {
    "scrolled": false
   },
   "outputs": [],
   "source": [
    "learn.load('enc')"
   ]
  },
  {
   "cell_type": "markdown",
   "metadata": {},
   "source": [
    "After trainig the language model, we can ask it to predict the next words by giving it a couple of words in the beginning. Here, we give the words 'Trump's daughter' and ask it to predict the next 100 words. Results are hilarious:-)"
   ]
  },
  {
   "cell_type": "code",
   "execution_count": 39,
   "metadata": {},
   "outputs": [
    {
     "data": {
      "text/plain": [
       "'Trump\\'s daughter: \" xxmaj if you look at the history of xxmaj trump \\'s campaign , i \\'m \\' is a woman who does n\\'t have a sense of experience , \" xxmaj the xxmaj post wrote on xxmaj twitter . \" xxmaj it \\'s a very , very strange day . \" \\n\\n xxmaj the xxmaj new xxmaj york xxmaj times : xxmaj trump xxmaj calls xxmaj him xxmaj out xxmaj of xxmaj his xxmaj own xxmaj mind xxmaj on xxmaj his xxmaj campaign xxmaj manager xxmaj for xxmaj his xxmaj entire xxmaj life xxmaj in xxmaj new xxmaj york xxmaj'"
      ]
     },
     "execution_count": 39,
     "metadata": {},
     "output_type": "execute_result"
    }
   ],
   "source": [
    "learn.predict(\"Trump's daughter:\", 100, temperature=0.5 ,min_p =0.001)"
   ]
  },
  {
   "cell_type": "markdown",
   "metadata": {},
   "source": [
    "Now we can save the language model as an encoder"
   ]
  },
  {
   "cell_type": "code",
   "execution_count": 40,
   "metadata": {
    "collapsed": true
   },
   "outputs": [],
   "source": [
    "learn.save_encoder('enc-1')"
   ]
  },
  {
   "cell_type": "code",
   "execution_count": 41,
   "metadata": {
    "collapsed": true
   },
   "outputs": [],
   "source": [
    "learn.load_encoder('enc-1')"
   ]
  },
  {
   "cell_type": "markdown",
   "metadata": {},
   "source": [
    "## Classifier\n",
    "\n",
    "Now that we have built the language_model, we can go head and start with the Classifier. The Classifier is quite similar to the language_model. Following the same steps as before, will be fine\n",
    "\n"
   ]
  },
  {
   "cell_type": "code",
   "execution_count": 42,
   "metadata": {
    "collapsed": true
   },
   "outputs": [],
   "source": [
    "bs = 24"
   ]
  },
  {
   "cell_type": "code",
   "execution_count": 43,
   "metadata": {
    "collapsed": true
   },
   "outputs": [],
   "source": [
    "data_c = (TextList.from_df(df, cols='text', vocab=data_language.vocab)\n",
    "            .random_split_by_pct(valid_pct=0.2)\n",
    "            .label_from_df(cols='label')\n",
    "            .databunch(bs=bs))"
   ]
  },
  {
   "cell_type": "code",
   "execution_count": 44,
   "metadata": {
    "collapsed": true
   },
   "outputs": [],
   "source": [
    "data_c.save('data-c')"
   ]
  },
  {
   "cell_type": "code",
   "execution_count": 46,
   "metadata": {
    "collapsed": true
   },
   "outputs": [],
   "source": [
    "path = Path(\"../Fake News - 1\")"
   ]
  },
  {
   "cell_type": "code",
   "execution_count": 47,
   "metadata": {},
   "outputs": [
    {
     "data": {
      "text/plain": [
       "[PosixPath('../Fake News - 1/tmp_lm'),\n",
       " PosixPath('../Fake News - 1/.ipynb_checkpoints'),\n",
       " PosixPath('../Fake News - 1/Fake News - 1.ipynb'),\n",
       " PosixPath('../Fake News - 1/models'),\n",
       " PosixPath('../Fake News - 1/Untitled.ipynb'),\n",
       " PosixPath('../Fake News - 1/Data'),\n",
       " PosixPath('../Fake News - 1/data-c')]"
      ]
     },
     "execution_count": 47,
     "metadata": {},
     "output_type": "execute_result"
    }
   ],
   "source": [
    "path.ls()"
   ]
  },
  {
   "cell_type": "code",
   "execution_count": null,
   "metadata": {},
   "outputs": [],
   "source": [
    "df = pd.read_csv(path/'fake_or_real_news.csv', usecols=[\"label\", \"text\"])[[\"label\", \"text\"]]"
   ]
  },
  {
   "cell_type": "code",
   "execution_count": 49,
   "metadata": {},
   "outputs": [
    {
     "data": {
      "text/html": [
       "<div>\n",
       "<style scoped>\n",
       "    .dataframe tbody tr th:only-of-type {\n",
       "        vertical-align: middle;\n",
       "    }\n",
       "\n",
       "    .dataframe tbody tr th {\n",
       "        vertical-align: top;\n",
       "    }\n",
       "\n",
       "    .dataframe thead th {\n",
       "        text-align: right;\n",
       "    }\n",
       "</style>\n",
       "<table border=\"1\" class=\"dataframe\">\n",
       "  <thead>\n",
       "    <tr style=\"text-align: right;\">\n",
       "      <th></th>\n",
       "      <th>Unnamed: 0</th>\n",
       "      <th>title</th>\n",
       "      <th>text</th>\n",
       "      <th>label</th>\n",
       "    </tr>\n",
       "  </thead>\n",
       "  <tbody>\n",
       "    <tr>\n",
       "      <th>0</th>\n",
       "      <td>8476</td>\n",
       "      <td>You Can Smell Hillary’s Fear</td>\n",
       "      <td>Daniel Greenfield, a Shillman Journalism Fello...</td>\n",
       "      <td>FAKE</td>\n",
       "    </tr>\n",
       "    <tr>\n",
       "      <th>1</th>\n",
       "      <td>10294</td>\n",
       "      <td>Watch The Exact Moment Paul Ryan Committed Pol...</td>\n",
       "      <td>Google Pinterest Digg Linkedin Reddit Stumbleu...</td>\n",
       "      <td>FAKE</td>\n",
       "    </tr>\n",
       "    <tr>\n",
       "      <th>2</th>\n",
       "      <td>3608</td>\n",
       "      <td>Kerry to go to Paris in gesture of sympathy</td>\n",
       "      <td>U.S. Secretary of State John F. Kerry said Mon...</td>\n",
       "      <td>REAL</td>\n",
       "    </tr>\n",
       "    <tr>\n",
       "      <th>3</th>\n",
       "      <td>10142</td>\n",
       "      <td>Bernie supporters on Twitter erupt in anger ag...</td>\n",
       "      <td>— Kaydee King (@KaydeeKing) November 9, 2016 T...</td>\n",
       "      <td>FAKE</td>\n",
       "    </tr>\n",
       "    <tr>\n",
       "      <th>4</th>\n",
       "      <td>875</td>\n",
       "      <td>The Battle of New York: Why This Primary Matters</td>\n",
       "      <td>It's primary day in New York and front-runners...</td>\n",
       "      <td>REAL</td>\n",
       "    </tr>\n",
       "  </tbody>\n",
       "</table>\n",
       "</div>"
      ],
      "text/plain": [
       "   Unnamed: 0                                              title  \\\n",
       "0        8476                       You Can Smell Hillary’s Fear   \n",
       "1       10294  Watch The Exact Moment Paul Ryan Committed Pol...   \n",
       "2        3608        Kerry to go to Paris in gesture of sympathy   \n",
       "3       10142  Bernie supporters on Twitter erupt in anger ag...   \n",
       "4         875   The Battle of New York: Why This Primary Matters   \n",
       "\n",
       "                                                text label  \n",
       "0  Daniel Greenfield, a Shillman Journalism Fello...  FAKE  \n",
       "1  Google Pinterest Digg Linkedin Reddit Stumbleu...  FAKE  \n",
       "2  U.S. Secretary of State John F. Kerry said Mon...  REAL  \n",
       "3  — Kaydee King (@KaydeeKing) November 9, 2016 T...  FAKE  \n",
       "4  It's primary day in New York and front-runners...  REAL  "
      ]
     },
     "execution_count": 49,
     "metadata": {},
     "output_type": "execute_result"
    }
   ],
   "source": [
    "df.head()[:20]"
   ]
  },
  {
   "cell_type": "code",
   "execution_count": 50,
   "metadata": {
    "collapsed": true
   },
   "outputs": [],
   "source": [
    "data_c =  TextClasDataBunch.load(path, 'data-c', bs=bs)"
   ]
  },
  {
   "cell_type": "markdown",
   "metadata": {},
   "source": [
    "Finally, we can create the actual classifier using the ```text_classifier``` in fast.ai"
   ]
  },
  {
   "cell_type": "code",
   "execution_count": 51,
   "metadata": {
    "collapsed": true
   },
   "outputs": [],
   "source": [
    "learn_classify = text_classifier_learner(data_c, drop_mult = 0.45)"
   ]
  },
  {
   "cell_type": "code",
   "execution_count": 52,
   "metadata": {
    "collapsed": true
   },
   "outputs": [],
   "source": [
    "learn_classify.load_encoder('enc-1')"
   ]
  },
  {
   "cell_type": "code",
   "execution_count": 53,
   "metadata": {
    "collapsed": true
   },
   "outputs": [],
   "source": [
    "learn_classify.freeze()"
   ]
  },
  {
   "cell_type": "code",
   "execution_count": 54,
   "metadata": {},
   "outputs": [
    {
     "name": "stdout",
     "output_type": "stream",
     "text": [
      "LR Finder is complete, type {learner_name}.recorder.plot() to see the graph.\n"
     ]
    }
   ],
   "source": [
    "learn_classify.lr_find()"
   ]
  },
  {
   "cell_type": "code",
   "execution_count": 55,
   "metadata": {},
   "outputs": [
    {
     "data": {
      "image/png": "[encoded data removed]",
      "text/plain": [
       "<Figure size 432x288 with 1 Axes>"
      ]
     },
     "metadata": {
      "needs_background": "light"
     },
     "output_type": "display_data"
    }
   ],
   "source": [
    "learn_classify.recorder.plot()"
   ]
  },
  {
   "cell_type": "code",
   "execution_count": 56,
   "metadata": {},
   "outputs": [
    {
     "data": {
      "text/html": [
       "Total time: 07:26 <p><table style='width:300px; margin-bottom:10px'>\n",
       "  <tr>\n",
       "    <th>epoch</th>\n",
       "    <th>train_loss</th>\n",
       "    <th>valid_loss</th>\n",
       "    <th>accuracy</th>\n",
       "  </tr>\n",
       "  <tr>\n",
       "    <th>1</th>\n",
       "    <th>0.187155</th>\n",
       "    <th>0.062389</th>\n",
       "    <th>0.973954</th>\n",
       "  </tr>\n",
       "</table>\n"
      ],
      "text/plain": [
       "<IPython.core.display.HTML object>"
      ]
     },
     "metadata": {},
     "output_type": "display_data"
    }
   ],
   "source": [
    "learn_classify.fit_one_cycle(1, 1e-2, moms = (0.8, 0.7))"
   ]
  },
  {
   "cell_type": "code",
   "execution_count": 57,
   "metadata": {},
   "outputs": [
    {
     "data": {
      "text/html": [
       "Total time: 08:44 <p><table style='width:300px; margin-bottom:10px'>\n",
       "  <tr>\n",
       "    <th>epoch</th>\n",
       "    <th>train_loss</th>\n",
       "    <th>valid_loss</th>\n",
       "    <th>accuracy</th>\n",
       "  </tr>\n",
       "  <tr>\n",
       "    <th>1</th>\n",
       "    <th>0.115290</th>\n",
       "    <th>0.035015</th>\n",
       "    <th>0.987372</th>\n",
       "  </tr>\n",
       "</table>\n"
      ],
      "text/plain": [
       "<IPython.core.display.HTML object>"
      ]
     },
     "metadata": {},
     "output_type": "display_data"
    }
   ],
   "source": [
    "\n",
    "learn_classify.freeze_to(-2)\n",
    "learn_classify.fit_one_cycle(1, slice(1e-2/(2.6**4),1e-2), moms=(0.8,0.7))"
   ]
  },
  {
   "cell_type": "code",
   "execution_count": 58,
   "metadata": {
    "collapsed": true
   },
   "outputs": [],
   "source": [
    "learn_classify.save('penultimate')"
   ]
  },
  {
   "cell_type": "code",
   "execution_count": null,
   "metadata": {},
   "outputs": [],
   "source": [
    "learn_classify.load('penultimate')"
   ]
  },
  {
   "cell_type": "code",
   "execution_count": null,
   "metadata": {},
   "outputs": [],
   "source": [
    "learn_classify.load('penultimate')"
   ]
  },
  {
   "cell_type": "markdown",
   "metadata": {},
   "source": [
    "<b>Finally, we have completed the classifier. Let's test it!</b>\n",
    "\n",
    "\n",
    "Example 1: (FAKE)"
   ]
  },
  {
   "cell_type": "code",
   "execution_count": 90,
   "metadata": {
    "scrolled": true
   },
   "outputs": [
    {
     "data": {
      "text/plain": [
       "(Category FAKE, tensor(0), tensor([0.9326, 0.0674]))"
      ]
     },
     "execution_count": 90,
     "metadata": {},
     "output_type": "execute_result"
    }
   ],
   "source": [
    "learn_classify.predict(\"Hung Assembly in India. Modi defeated by Rahul Gandhi ans other UPA parties. BSP, SP and other parties have joined Congress. The people of India have given Modi a reality check, as a consequence of his miseading, damaging  and dishonest policies. Rahul Gandhi will take oath in 2 days!Other party leaders are slated to get lucrative ministries \")"
   ]
  },
  {
   "cell_type": "markdown",
   "metadata": {},
   "source": [
    "Example 2: (REAL)"
   ]
  },
  {
   "cell_type": "code",
   "execution_count": 92,
   "metadata": {},
   "outputs": [
    {
     "data": {
      "text/plain": [
       "(Category REAL, tensor(1), tensor([0.2880, 0.7120]))"
      ]
     },
     "execution_count": 92,
     "metadata": {},
     "output_type": "execute_result"
    }
   ],
   "source": [
    "learn_classify.predict(\" Eight months after the BJP named him its prime ministerial candidate, Narendra Modi, 63, proved he was worth the opposition the party originally encountered over its decision. Mr Modi has delivered the BJP's best result ever, giving it more than the 272 seats it needs to form a government.  This is the first parliamentary majority by a single party since 1984\")"
   ]
  },
  {
   "cell_type": "markdown",
   "metadata": {
    "collapsed": true
   },
   "source": [
    "As we see, the first short excrept was written by me and the second one was a <b>real</b> article from a newpaper and the model correctly classified it!"
   ]
  },
  {
   "cell_type": "markdown",
   "metadata": {
    "collapsed": true
   },
   "source": [
    "# Conclusion\n",
    "\n",
    "### Takeaways\n",
    "The model classifies Fake/Real by understanding the linguistic structure of the sentences. \n",
    "\n",
    "- In our example the first example was written by me in a very rudimentary and non-formal way, like most Fake News. \n",
    "- The second one, a proper news article, is a more professional and well-written article, like most of the Real News.\n",
    "\n",
    "### Limitations \n",
    "As this model relies on the linguistic structure of a sentence, it is <b>by far</b> not a full proof Fake News Classifer.\n",
    "\n",
    "- As it relies on the structure of a sentence, a well-written <b> Fake</b> article will be not be flagged down.\n",
    "- Conversely, a poorly written <b> Real</b> article may be flagged down\n",
    "\n",
    "These limitations can be undone, and am currently working on it!\n",
    "\n",
    "References:\n",
    "[The Excellent Fast.ai Course](https://github.com/fastai)\n"
   ]
  },
  {
   "cell_type": "code",
   "execution_count": null,
   "metadata": {
    "collapsed": true
   },
   "outputs": [],
   "source": []
  }
 ],
 "metadata": {
  "kernelspec": {
   "display_name": "Python 3",
   "language": "python",
   "name": "python3"
  },
  "language_info": {
   "codemirror_mode": {
    "name": "ipython",
    "version": 3
   },
   "file_extension": ".py",
   "mimetype": "text/x-python",
   "name": "python",
   "nbconvert_exporter": "python",
   "pygments_lexer": "ipython3",
   "version": "3.6.2"
  }
 },
 "nbformat": 4,
 "nbformat_minor": 2
}
